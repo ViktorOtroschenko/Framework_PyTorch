{
 "cells": [
  {
   "cell_type": "markdown",
   "metadata": {
    "id": "g1NQidcHbO_5"
   },
   "source": [
    "## Введение в PyTorch"
   ]
  },
  {
   "cell_type": "code",
   "execution_count": 17,
   "metadata": {
    "id": "dEfHD6fAchw4"
   },
   "outputs": [],
   "source": [
    "from torch import nn \n",
    "from torch import optim\n",
    "import torchvision.transforms as transforms\n",
    "import matplotlib.pyplot as plt\n",
    "import torch, torchvision\n",
    "import torch.nn.functional as F\n",
    "import pandas as pd\n",
    "%matplotlib inline"
   ]
  },
  {
   "cell_type": "markdown",
   "metadata": {
    "id": "-wG63u1CbTt2"
   },
   "source": [
    "### 1. Нахождение сложной производной.\n",
    "Найдите производную по x от функции:\n",
    "\n",
    "![image.png](data:image/png;base64,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)\n",
    "\n",
    "При этом надо пользоваться встроенным в PyTorch autograd.\n"
   ]
  },
  {
   "cell_type": "code",
   "execution_count": 2,
   "metadata": {
    "id": "4BLe4nAeb9w3"
   },
   "outputs": [],
   "source": [
    "def find_x_derivative(x, y):\n",
    "\n",
    "    x = torch.tensor([x], dtype=float, requires_grad=True)\n",
    "    y = torch.tensor([y], dtype=float, requires_grad=True)\n",
    "    func = torch.sin( torch.tan(x)*torch.pow(x,2)/y + torch.log(torch.exp(-torch.pow(x,2)+3)+torch.pow(x,3)*y))*torch.tan(torch.pow(x,2)*torch.exp(torch.pow(x,9)))\n",
    "    func.backward()\n",
    "\n",
    "    return x.grad"
   ]
  },
  {
   "cell_type": "code",
   "execution_count": 14,
   "metadata": {
    "colab": {
     "base_uri": "https://localhost:8080/"
    },
    "id": "HV3ppKmoc6LV",
    "outputId": "e405d6dc-9355-4434-8803-79f065f2f549"
   },
   "outputs": [
    {
     "data": {
      "text/plain": [
       "tensor([9.5875], dtype=torch.float64)"
      ]
     },
     "execution_count": 14,
     "metadata": {
      "tags": []
     },
     "output_type": "execute_result"
    }
   ],
   "source": [
    "find_x_derivative(1, 7)"
   ]
  },
  {
   "cell_type": "markdown",
   "metadata": {
    "id": "aIFN8FmXAC4l"
   },
   "source": [
    "### 2.\tНахождение косинусной близости\n",
    "Вам даны две матрицы A и B. Необходимо посчитать косинусную близость между строчками матрицы A и столбцами матрицы B. Ответ - матрица чисел, где номер строки - номер строки из матрицы А, а номер столбца - номер столбца из В, от которых бралась косинусная близость.\n",
    "Напомним, что косинусная близость двух векторов - косинус угла между ними. В n-мерном пространстве косинус угла между векторами удобнее всего через скалярное произведение:\n",
    "\n",
    "![image.png](data:image/png;base64,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)"
   ]
  },
  {
   "cell_type": "code",
   "execution_count": 15,
   "metadata": {
    "id": "ENduCBQqc6H3"
   },
   "outputs": [],
   "source": [
    "def get_cos_sim(A, B):\n",
    "    \"\"\"\n",
    "        A, B - torch float tensors\n",
    "    \"\"\"\n",
    "    A=torch.tensor(A,dtype = float)\n",
    "    B=torch.tensor(B, dtype = float)\n",
    "    B = B.t()\n",
    "\n",
    "    norm_a = torch.norm(A, dim=1, keepdim=True)\n",
    "    norm_b = torch.norm(B, dim=1, keepdim=True)\n",
    "\n",
    "    A = A[:]/norm_a[:]\n",
    "    B = B[:]/norm_b[:]\n",
    "    B = B.t()\n",
    "\n",
    "    return torch.mm(A,B)"
   ]
  },
  {
   "cell_type": "code",
   "execution_count": 20,
   "metadata": {
    "colab": {
     "base_uri": "https://localhost:8080/"
    },
    "id": "UYRy52TTA4rn",
    "outputId": "95999d1a-2185-4009-9f09-4bc0c358a2b4"
   },
   "outputs": [
    {
     "data": {
      "text/plain": [
       "tensor([[ 0.1177, -0.6666, -0.7051],\n",
       "        [ 1.1403,  0.5047, -0.8269],\n",
       "        [-1.4653, -0.9402,  0.6256]])"
      ]
     },
     "execution_count": 20,
     "metadata": {
      "tags": []
     },
     "output_type": "execute_result"
    }
   ],
   "source": [
    "A = torch.randn(3, 3)\n",
    "A.numpy()\n",
    "A"
   ]
  },
  {
   "cell_type": "code",
   "execution_count": 19,
   "metadata": {
    "colab": {
     "base_uri": "https://localhost:8080/"
    },
    "id": "1kJ3VHUmA4oN",
    "outputId": "de2cc6ce-bf59-4f01-9d06-1f515adb7fd3"
   },
   "outputs": [
    {
     "data": {
      "text/plain": [
       "tensor([[-0.2061, -0.2286,  1.5995],\n",
       "        [-0.1376, -1.2766, -2.3078],\n",
       "        [-0.9401,  0.3541,  0.3863]])"
      ]
     },
     "execution_count": 19,
     "metadata": {
      "tags": []
     },
     "output_type": "execute_result"
    }
   ],
   "source": [
    "B = torch.randn(3, 3)\n",
    "B.numpy()\n",
    "B"
   ]
  },
  {
   "cell_type": "code",
   "execution_count": 23,
   "metadata": {
    "colab": {
     "base_uri": "https://localhost:8080/"
    },
    "id": "Raxuq7EOc6Cx",
    "outputId": "6869ebb9-371d-429e-ed0f-ca581a9f0d98"
   },
   "outputs": [
    {
     "name": "stderr",
     "output_type": "stream",
     "text": [
      "/usr/local/lib/python3.7/dist-packages/ipykernel_launcher.py:5: UserWarning: To copy construct from a tensor, it is recommended to use sourceTensor.clone().detach() or sourceTensor.clone().detach().requires_grad_(True), rather than torch.tensor(sourceTensor).\n",
      "  \"\"\"\n",
      "/usr/local/lib/python3.7/dist-packages/ipykernel_launcher.py:6: UserWarning: To copy construct from a tensor, it is recommended to use sourceTensor.clone().detach() or sourceTensor.clone().detach().requires_grad_(True), rather than torch.tensor(sourceTensor).\n",
      "  \n"
     ]
    },
    {
     "data": {
      "text/plain": [
       "tensor([[ 0.7686,  0.4371,  0.5249],\n",
       "        [ 0.3251, -0.5955,  0.0801],\n",
       "        [-0.0872,  0.7063,  0.0129]], dtype=torch.float64)"
      ]
     },
     "execution_count": 23,
     "metadata": {
      "tags": []
     },
     "output_type": "execute_result"
    }
   ],
   "source": [
    "get_cos_sim(A, B)"
   ]
  },
  {
   "cell_type": "code",
   "execution_count": 24,
   "metadata": {
    "colab": {
     "base_uri": "https://localhost:8080/"
    },
    "id": "79fbDIsZc5_b",
    "outputId": "66901b57-27ac-45a2-ba8f-6add3502d08f"
   },
   "outputs": [
    {
     "name": "stderr",
     "output_type": "stream",
     "text": [
      "/usr/local/lib/python3.7/dist-packages/ipykernel_launcher.py:5: UserWarning: To copy construct from a tensor, it is recommended to use sourceTensor.clone().detach() or sourceTensor.clone().detach().requires_grad_(True), rather than torch.tensor(sourceTensor).\n",
      "  \"\"\"\n",
      "/usr/local/lib/python3.7/dist-packages/ipykernel_launcher.py:6: UserWarning: To copy construct from a tensor, it is recommended to use sourceTensor.clone().detach() or sourceTensor.clone().detach().requires_grad_(True), rather than torch.tensor(sourceTensor).\n",
      "  \n"
     ]
    },
    {
     "data": {
      "text/plain": [
       "tensor(0.2414, dtype=torch.float64)"
      ]
     },
     "execution_count": 24,
     "metadata": {
      "tags": []
     },
     "output_type": "execute_result"
    }
   ],
   "source": [
    "torch.mean(get_cos_sim(A, B))"
   ]
  },
  {
   "cell_type": "markdown",
   "metadata": {
    "id": "OZBMkHAbBitN"
   },
   "source": [
    "### 3.\tОбучение своей нейронной сети\n",
    "\n",
    "Взять датасет Fashion-Mnist, построить свою нейронную сеть cо сверточными слоями и обучить эту нейронную сеть пользуясь материалами из вебинара. \n",
    "Архитектура нейронной сети должна быть следующая:\n",
    "1.\tСначала должны идти два блока в которых должны присутствовать следующие слои:\n",
    "  \n",
    "  a)\tдва подряд идущие сверточных слоя(после каждого сверточного слоя идет активация Relu)\n",
    "  \n",
    "  b)\tИ в конце каждого блока слой макс пулинга\n",
    "2.\tВ конце должны идти 3 линейных слоя.\n",
    "При этом можете поиграться с разными оптимизаторами.\n",
    "В качестве результата прошу приложить скрин с картинками и предсказанными классами."
   ]
  },
  {
   "cell_type": "code",
   "execution_count": null,
   "metadata": {
    "id": "8MgnRpCCDvPT"
   },
   "outputs": [],
   "source": []
  }
 ],
 "metadata": {
  "accelerator": "GPU",
  "colab": {
   "collapsed_sections": [],
   "name": "Lesson1.ipynb",
   "provenance": []
  },
  "kernelspec": {
   "display_name": "Python 3",
   "language": "python",
   "name": "python3"
  },
  "language_info": {
   "codemirror_mode": {
    "name": "ipython",
    "version": 3
   },
   "file_extension": ".py",
   "mimetype": "text/x-python",
   "name": "python",
   "nbconvert_exporter": "python",
   "pygments_lexer": "ipython3",
   "version": "3.7.10"
  }
 },
 "nbformat": 4,
 "nbformat_minor": 1
}
