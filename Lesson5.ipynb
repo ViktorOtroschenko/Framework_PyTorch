{
 "cells": [
  {
   "cell_type": "markdown",
   "metadata": {
    "id": "XxnGsVtu85u8"
   },
   "source": [
    "## LSTM"
   ]
  },
  {
   "cell_type": "code",
   "execution_count": null,
   "metadata": {
    "colab": {
     "base_uri": "https://localhost:8080/"
    },
    "id": "jufnVnJ687Sh",
    "outputId": "16940fdd-e3e2-461a-9aae-f8378ff080e1"
   },
   "outputs": [
    {
     "name": "stdout",
     "output_type": "stream",
     "text": [
      "Mounted at /content/drive\n"
     ]
    }
   ],
   "source": [
    "from google.colab import drive\n",
    "drive.mount('/content/drive')"
   ]
  },
  {
   "cell_type": "code",
   "execution_count": null,
   "metadata": {
    "id": "HU1l_fV8GGmX"
   },
   "outputs": [],
   "source": [
    "import os\n",
    "import time\n",
    "import math\n",
    "\n",
    "import numpy as np\n",
    "import pandas as pd\n",
    "import matplotlib.pyplot as plt\n",
    "\n",
    "import torch\n",
    "from torch import nn\n",
    "from torch import optim\n",
    "from torch.utils.data import DataLoader, Dataset\n",
    "from zipfile import ZipFile"
   ]
  },
  {
   "cell_type": "code",
   "execution_count": null,
   "metadata": {
    "id": "dWuOfHNXLXGM"
   },
   "outputs": [],
   "source": [
    "data_path_zip = '/content/drive/MyDrive/nturgbd_skeletons_s001_to_s017.zip'\n",
    "extract_dir = '/content/drive/MyDrive/skeletons'\n",
    "with ZipFile(data_path_zip) as zf:\n",
    "    zf.extractall(extract_dir)"
   ]
  },
  {
   "cell_type": "code",
   "execution_count": null,
   "metadata": {
    "id": "ym9cAWBr88C3"
   },
   "outputs": [],
   "source": [
    "class SkeletonDataSet:\n",
    "    \n",
    "    files = None\n",
    "    action_classes = None\n",
    "    \n",
    "    def __init__(self, data_path, broken_files_path , chonk_len=45):\n",
    "        self.data_path = data_path\n",
    "        self.broken_files_path = broken_files_path\n",
    "        self.chonk_len = chonk_len\n",
    "        self.training_cameras = [1, 2, 3]\n",
    "        self.training_classes = [5, 7, 20, 24, 27, 33, 38, 50, 72, 93]\n",
    "    \n",
    "    def read_data(self):\n",
    "        labels = []\n",
    "        files = []\n",
    "        action_classes = {}\n",
    "        counter = 0\n",
    "        files_counter = {}\n",
    "\n",
    "        with open(self.broken_files_path, 'r') as f:\n",
    "            broken_files = f.read().split(\"\\n\")\n",
    "\n",
    "        raw_files = os.listdir(self.data_path)\n",
    "        num_frames = 0\n",
    "\n",
    "        for filename in raw_files:\n",
    "            if filename not in broken_files:\n",
    "                action_class = int(filename[filename.find('A') + 1:filename.find('A') + 4])\n",
    "                subject_id = int(filename[filename.find('P') + 1:filename.find('P') + 4])\n",
    "                camera_id = int(filename[filename.find('C') + 1:filename.find('C') + 4])\n",
    "                if action_class in self.training_classes and camera_id in self.training_cameras:  # and subject_id in training_subjects:\n",
    "                    if action_class in action_classes:\n",
    "                        if files_counter[action_class] < 120:\n",
    "                            files.append([filename, action_classes[action_class]])\n",
    "                            files_counter[action_class] = files_counter[action_class] + 1\n",
    "                    else:\n",
    "                        action_classes.update({action_class : counter})\n",
    "                        files_counter.update({action_class : 1})\n",
    "                        counter+=1\n",
    "                        files.append([filename,action_classes[action_class]])\n",
    "                        labels.append([action_class])\n",
    "                        \n",
    "        print(\"action classes: \", action_classes)\n",
    "        print(\"action files: \", files_counter)\n",
    "        \n",
    "        self.files = files\n",
    "        self.action_classes = action_classes\n",
    "        \n",
    "        return files, action_classes\n",
    "    \n",
    "    def get_nonzero_std(self, s): \n",
    "        index = s.sum(-1).sum(-1) != 0  \n",
    "        s = s[index]\n",
    "        if len(s) != 0:\n",
    "            s = s[:, :, 0].std() + s[:, :, 1].std() + s[:, :, 2].std()  \n",
    "        else:\n",
    "            s = 0\n",
    "        return s\n",
    "    \n",
    "    def read_skeleton_filter(self, file):\n",
    "        with open(file, 'r') as f:\n",
    "            skeleton_sequence = {}\n",
    "            skeleton_sequence['numFrame'] = int(f.readline())\n",
    "            skeleton_sequence['frameInfo'] = []\n",
    "            for t in range(skeleton_sequence['numFrame']):\n",
    "                frame_info = {}\n",
    "                frame_info['numBody'] = int(f.readline())\n",
    "                frame_info['bodyInfo'] = []\n",
    "\n",
    "                for m in range(frame_info['numBody']):\n",
    "                    body_info = {}\n",
    "                    body_info_key = [\n",
    "                        'bodyID', 'clipedEdges', 'handLeftConfidence',\n",
    "                        'handLeftState', 'handRightConfidence', 'handRightState',\n",
    "                        'isResticted', 'leanX', 'leanY', 'trackingState'\n",
    "                    ]\n",
    "                    body_info = {\n",
    "                        k: float(v)\n",
    "                        for k, v in zip(body_info_key, f.readline().split())\n",
    "                    }\n",
    "                    body_info['numJoint'] = int(f.readline())\n",
    "                    body_info['jointInfo'] = []\n",
    "                    for v in range(body_info['numJoint']):\n",
    "                        joint_info_key = [\n",
    "                            'x', 'y', 'z', 'depthX', 'depthY', 'colorX', 'colorY',\n",
    "                            'orientationW', 'orientationX', 'orientationY',\n",
    "                            'orientationZ', 'trackingState'\n",
    "                        ]\n",
    "                        joint_info = {\n",
    "                            k: float(v)\n",
    "                            for k, v in zip(joint_info_key, f.readline().split())\n",
    "                        }\n",
    "                        body_info['jointInfo'].append(joint_info)\n",
    "                    frame_info['bodyInfo'].append(body_info)\n",
    "                skeleton_sequence['frameInfo'].append(frame_info)\n",
    "\n",
    "        return skeleton_sequence\n",
    "    \n",
    "    def read_xyz(self, file, max_body=1, num_joint=25):\n",
    "        seq_info = self.read_skeleton_filter(file)\n",
    "        data = np.zeros((max_body, seq_info['numFrame'], num_joint, 3))\n",
    "        for n, f in enumerate(seq_info['frameInfo']):\n",
    "            for m, b in enumerate(f['bodyInfo']):\n",
    "                for j, v in enumerate(b['jointInfo']):\n",
    "                    if m < max_body and j < num_joint:\n",
    "                        data[m, n, j, :] = [v['x'], v['y'], v['z']]\n",
    "\n",
    "                    else:\n",
    "                        pass\n",
    "\n",
    "        return data\n",
    "    \n",
    "    def create_coords_blocks(self, test_file):   \n",
    "        frame_counter = 0\n",
    "        new_labels = []\n",
    "        new_frames = []\n",
    "        blocks = []\n",
    "\n",
    "        test_frames = self.read_xyz(self.data_path + test_file[0])[0]\n",
    "        label = test_file[1]\n",
    "        slice_len = self.chonk_len * int(len(test_frames)/self.chonk_len)\n",
    "\n",
    "\n",
    "        for index in range(len(test_frames[:slice_len])):\n",
    "            frame_counter += 1\n",
    "            new_frames.append(test_frames[index].flatten())\n",
    "            if frame_counter == self.chonk_len:\n",
    "                frame_counter = 0\n",
    "                blocks.append(np.array(new_frames))\n",
    "                new_labels = new_labels + [label]\n",
    "                new_frames = []\n",
    "\n",
    "\n",
    "        return blocks, new_labels\n",
    "    \n",
    "    def mark_data(self):\n",
    "        data = []\n",
    "        labels = []\n",
    "        ##########################################################################\n",
    "        numbers = {0: 0, 1: 0, 2: 0, 3: 0, 4: 0, 5: 0, 6: 0, 7: 0, 8: 0, 9: 0} #####\n",
    "        ##################################################################\n",
    "        for file in self.files:\n",
    "            frames_blocks, label = self.create_coords_blocks(file)\n",
    "            if label != [] and numbers[label[0]] <= 150:\n",
    "                numbers[label[0]] += len(label)\n",
    "                data += frames_blocks\n",
    "                labels += label\n",
    "        data_np = np.asarray(data)\n",
    "        labels_np = np.asarray(labels)\n",
    "\n",
    "        data_sq = data_np.reshape(len(data_np), -1)\n",
    "        test_data = pd.DataFrame(data_sq)\n",
    "        test_labels = pd.DataFrame(labels_np)\n",
    "        test_data['labels'] = test_labels\n",
    "        \n",
    "        return test_data"
   ]
  },
  {
   "cell_type": "code",
   "execution_count": null,
   "metadata": {
    "id": "TQvh9jBIQ7DE"
   },
   "outputs": [],
   "source": [
    "DATA_PATH = '/content/drive/MyDrive/skeletons/nturgb+d_skeletons/'\n",
    "BROKEN_FILES_PATH = '/content/drive/MyDrive/skeletons/NTU_RGBD_samples_with_missing_skeletons.txt'"
   ]
  },
  {
   "cell_type": "code",
   "execution_count": null,
   "metadata": {
    "id": "hnAfODTjf6qH"
   },
   "outputs": [],
   "source": [
    "data_skeleton = SkeletonDataSet(data_path=DATA_PATH, broken_files_path=BROKEN_FILES_PATH, chonk_len=50)\n",
    "\n",
    "data_skeleton.read_data()"
   ]
  },
  {
   "cell_type": "code",
   "execution_count": null,
   "metadata": {
    "id": "MKhdt0mWr9o3"
   },
   "outputs": [],
   "source": [
    "df = data_skeleton.mark_data()"
   ]
  },
  {
   "cell_type": "code",
   "execution_count": null,
   "metadata": {
    "id": "bEFvxYECLb45"
   },
   "outputs": [],
   "source": [
    "df.to_csv('skeleton50.csv', index = False)"
   ]
  },
  {
   "cell_type": "code",
   "execution_count": null,
   "metadata": {
    "id": "pTnSggI3gPwl"
   },
   "outputs": [],
   "source": [
    "df = pd.read_csv('/content/drive/MyDrive/skeleton50.csv')"
   ]
  },
  {
   "cell_type": "code",
   "execution_count": null,
   "metadata": {
    "colab": {
     "base_uri": "https://localhost:8080/",
     "height": 253
    },
    "id": "fCvDfzungsMP",
    "outputId": "fef73f1c-2917-4673-9be2-e094e1b0c449"
   },
   "outputs": [
    {
     "data": {
      "text/html": [
       "<div>\n",
       "<style scoped>\n",
       "    .dataframe tbody tr th:only-of-type {\n",
       "        vertical-align: middle;\n",
       "    }\n",
       "\n",
       "    .dataframe tbody tr th {\n",
       "        vertical-align: top;\n",
       "    }\n",
       "\n",
       "    .dataframe thead th {\n",
       "        text-align: right;\n",
       "    }\n",
       "</style>\n",
       "<table border=\"1\" class=\"dataframe\">\n",
       "  <thead>\n",
       "    <tr style=\"text-align: right;\">\n",
       "      <th></th>\n",
       "      <th>0</th>\n",
       "      <th>1</th>\n",
       "      <th>2</th>\n",
       "      <th>3</th>\n",
       "      <th>4</th>\n",
       "      <th>5</th>\n",
       "      <th>6</th>\n",
       "      <th>7</th>\n",
       "      <th>8</th>\n",
       "      <th>9</th>\n",
       "      <th>10</th>\n",
       "      <th>11</th>\n",
       "      <th>12</th>\n",
       "      <th>13</th>\n",
       "      <th>14</th>\n",
       "      <th>15</th>\n",
       "      <th>16</th>\n",
       "      <th>17</th>\n",
       "      <th>18</th>\n",
       "      <th>19</th>\n",
       "      <th>20</th>\n",
       "      <th>21</th>\n",
       "      <th>22</th>\n",
       "      <th>23</th>\n",
       "      <th>24</th>\n",
       "      <th>25</th>\n",
       "      <th>26</th>\n",
       "      <th>27</th>\n",
       "      <th>28</th>\n",
       "      <th>29</th>\n",
       "      <th>30</th>\n",
       "      <th>31</th>\n",
       "      <th>32</th>\n",
       "      <th>33</th>\n",
       "      <th>34</th>\n",
       "      <th>35</th>\n",
       "      <th>36</th>\n",
       "      <th>37</th>\n",
       "      <th>38</th>\n",
       "      <th>39</th>\n",
       "      <th>...</th>\n",
       "      <th>3711</th>\n",
       "      <th>3712</th>\n",
       "      <th>3713</th>\n",
       "      <th>3714</th>\n",
       "      <th>3715</th>\n",
       "      <th>3716</th>\n",
       "      <th>3717</th>\n",
       "      <th>3718</th>\n",
       "      <th>3719</th>\n",
       "      <th>3720</th>\n",
       "      <th>3721</th>\n",
       "      <th>3722</th>\n",
       "      <th>3723</th>\n",
       "      <th>3724</th>\n",
       "      <th>3725</th>\n",
       "      <th>3726</th>\n",
       "      <th>3727</th>\n",
       "      <th>3728</th>\n",
       "      <th>3729</th>\n",
       "      <th>3730</th>\n",
       "      <th>3731</th>\n",
       "      <th>3732</th>\n",
       "      <th>3733</th>\n",
       "      <th>3734</th>\n",
       "      <th>3735</th>\n",
       "      <th>3736</th>\n",
       "      <th>3737</th>\n",
       "      <th>3738</th>\n",
       "      <th>3739</th>\n",
       "      <th>3740</th>\n",
       "      <th>3741</th>\n",
       "      <th>3742</th>\n",
       "      <th>3743</th>\n",
       "      <th>3744</th>\n",
       "      <th>3745</th>\n",
       "      <th>3746</th>\n",
       "      <th>3747</th>\n",
       "      <th>3748</th>\n",
       "      <th>3749</th>\n",
       "      <th>labels</th>\n",
       "    </tr>\n",
       "  </thead>\n",
       "  <tbody>\n",
       "    <tr>\n",
       "      <th>0</th>\n",
       "      <td>0.216129</td>\n",
       "      <td>0.185681</td>\n",
       "      <td>3.767784</td>\n",
       "      <td>0.228515</td>\n",
       "      <td>0.437528</td>\n",
       "      <td>3.691366</td>\n",
       "      <td>0.239707</td>\n",
       "      <td>0.684526</td>\n",
       "      <td>3.604562</td>\n",
       "      <td>0.209585</td>\n",
       "      <td>0.788544</td>\n",
       "      <td>3.579634</td>\n",
       "      <td>0.107013</td>\n",
       "      <td>0.609244</td>\n",
       "      <td>3.692309</td>\n",
       "      <td>0.097245</td>\n",
       "      <td>0.398946</td>\n",
       "      <td>3.755655</td>\n",
       "      <td>0.071003</td>\n",
       "      <td>0.378669</td>\n",
       "      <td>3.532924</td>\n",
       "      <td>0.093353</td>\n",
       "      <td>0.390710</td>\n",
       "      <td>3.513596</td>\n",
       "      <td>0.336767</td>\n",
       "      <td>0.574167</td>\n",
       "      <td>3.563899</td>\n",
       "      <td>0.393315</td>\n",
       "      <td>0.385455</td>\n",
       "      <td>3.594625</td>\n",
       "      <td>0.184091</td>\n",
       "      <td>0.377979</td>\n",
       "      <td>3.476574</td>\n",
       "      <td>0.163689</td>\n",
       "      <td>0.379102</td>\n",
       "      <td>3.465217</td>\n",
       "      <td>0.163389</td>\n",
       "      <td>0.188209</td>\n",
       "      <td>3.757957</td>\n",
       "      <td>0.193764</td>\n",
       "      <td>...</td>\n",
       "      <td>0.167334</td>\n",
       "      <td>0.183555</td>\n",
       "      <td>3.774702</td>\n",
       "      <td>0.190691</td>\n",
       "      <td>-0.123525</td>\n",
       "      <td>3.893249</td>\n",
       "      <td>0.238399</td>\n",
       "      <td>-0.409509</td>\n",
       "      <td>4.026902</td>\n",
       "      <td>0.201013</td>\n",
       "      <td>-0.469224</td>\n",
       "      <td>3.931501</td>\n",
       "      <td>0.274613</td>\n",
       "      <td>0.182725</td>\n",
       "      <td>3.731796</td>\n",
       "      <td>0.304508</td>\n",
       "      <td>-0.142474</td>\n",
       "      <td>3.805532</td>\n",
       "      <td>0.322268</td>\n",
       "      <td>-0.450023</td>\n",
       "      <td>3.938748</td>\n",
       "      <td>0.281184</td>\n",
       "      <td>-0.503231</td>\n",
       "      <td>3.955158</td>\n",
       "      <td>0.209986</td>\n",
       "      <td>0.613128</td>\n",
       "      <td>3.633733</td>\n",
       "      <td>-0.008305</td>\n",
       "      <td>0.376740</td>\n",
       "      <td>3.580781</td>\n",
       "      <td>0.003934</td>\n",
       "      <td>0.357284</td>\n",
       "      <td>3.581750</td>\n",
       "      <td>0.157428</td>\n",
       "      <td>0.392301</td>\n",
       "      <td>3.460259</td>\n",
       "      <td>0.171550</td>\n",
       "      <td>0.370148</td>\n",
       "      <td>3.459167</td>\n",
       "      <td>0</td>\n",
       "    </tr>\n",
       "    <tr>\n",
       "      <th>1</th>\n",
       "      <td>0.237631</td>\n",
       "      <td>0.235039</td>\n",
       "      <td>3.746806</td>\n",
       "      <td>0.246957</td>\n",
       "      <td>0.468998</td>\n",
       "      <td>3.670609</td>\n",
       "      <td>0.255474</td>\n",
       "      <td>0.698446</td>\n",
       "      <td>3.586321</td>\n",
       "      <td>0.227848</td>\n",
       "      <td>0.807023</td>\n",
       "      <td>3.567291</td>\n",
       "      <td>0.154777</td>\n",
       "      <td>0.633232</td>\n",
       "      <td>3.631342</td>\n",
       "      <td>0.116700</td>\n",
       "      <td>0.431494</td>\n",
       "      <td>3.779196</td>\n",
       "      <td>0.090475</td>\n",
       "      <td>0.250002</td>\n",
       "      <td>3.828635</td>\n",
       "      <td>0.079708</td>\n",
       "      <td>0.179805</td>\n",
       "      <td>3.836316</td>\n",
       "      <td>0.352451</td>\n",
       "      <td>0.603199</td>\n",
       "      <td>3.551970</td>\n",
       "      <td>0.357557</td>\n",
       "      <td>0.393218</td>\n",
       "      <td>3.567642</td>\n",
       "      <td>0.340194</td>\n",
       "      <td>0.201544</td>\n",
       "      <td>3.569023</td>\n",
       "      <td>0.328381</td>\n",
       "      <td>0.123842</td>\n",
       "      <td>3.582424</td>\n",
       "      <td>0.190233</td>\n",
       "      <td>0.238972</td>\n",
       "      <td>3.738866</td>\n",
       "      <td>0.225254</td>\n",
       "      <td>...</td>\n",
       "      <td>-0.023113</td>\n",
       "      <td>0.190250</td>\n",
       "      <td>3.611777</td>\n",
       "      <td>-0.040075</td>\n",
       "      <td>-0.179409</td>\n",
       "      <td>3.745232</td>\n",
       "      <td>-0.084005</td>\n",
       "      <td>-0.479908</td>\n",
       "      <td>3.848197</td>\n",
       "      <td>-0.128462</td>\n",
       "      <td>-0.528454</td>\n",
       "      <td>3.773151</td>\n",
       "      <td>0.067169</td>\n",
       "      <td>0.205584</td>\n",
       "      <td>3.611563</td>\n",
       "      <td>0.215996</td>\n",
       "      <td>-0.148972</td>\n",
       "      <td>3.708674</td>\n",
       "      <td>0.332963</td>\n",
       "      <td>-0.454162</td>\n",
       "      <td>3.938946</td>\n",
       "      <td>0.326120</td>\n",
       "      <td>-0.518298</td>\n",
       "      <td>3.929154</td>\n",
       "      <td>-0.021926</td>\n",
       "      <td>0.657663</td>\n",
       "      <td>3.489328</td>\n",
       "      <td>-0.283195</td>\n",
       "      <td>0.455689</td>\n",
       "      <td>3.514100</td>\n",
       "      <td>-0.285979</td>\n",
       "      <td>0.445472</td>\n",
       "      <td>3.509000</td>\n",
       "      <td>-0.022871</td>\n",
       "      <td>0.701316</td>\n",
       "      <td>2.982738</td>\n",
       "      <td>-0.008102</td>\n",
       "      <td>0.664465</td>\n",
       "      <td>2.972972</td>\n",
       "      <td>1</td>\n",
       "    </tr>\n",
       "    <tr>\n",
       "      <th>2</th>\n",
       "      <td>0.443868</td>\n",
       "      <td>-0.031092</td>\n",
       "      <td>4.133648</td>\n",
       "      <td>0.434343</td>\n",
       "      <td>0.196818</td>\n",
       "      <td>4.022484</td>\n",
       "      <td>0.423121</td>\n",
       "      <td>0.421168</td>\n",
       "      <td>3.902824</td>\n",
       "      <td>0.405972</td>\n",
       "      <td>0.529858</td>\n",
       "      <td>3.864884</td>\n",
       "      <td>0.299719</td>\n",
       "      <td>0.352171</td>\n",
       "      <td>3.978494</td>\n",
       "      <td>0.269514</td>\n",
       "      <td>0.150808</td>\n",
       "      <td>4.082292</td>\n",
       "      <td>0.208622</td>\n",
       "      <td>-0.000404</td>\n",
       "      <td>3.890462</td>\n",
       "      <td>0.206166</td>\n",
       "      <td>-0.025612</td>\n",
       "      <td>3.854596</td>\n",
       "      <td>0.533503</td>\n",
       "      <td>0.318441</td>\n",
       "      <td>3.875472</td>\n",
       "      <td>0.601852</td>\n",
       "      <td>0.129017</td>\n",
       "      <td>3.947255</td>\n",
       "      <td>0.486983</td>\n",
       "      <td>0.010958</td>\n",
       "      <td>3.814233</td>\n",
       "      <td>0.440476</td>\n",
       "      <td>-0.015098</td>\n",
       "      <td>3.761896</td>\n",
       "      <td>0.379933</td>\n",
       "      <td>-0.025538</td>\n",
       "      <td>4.118165</td>\n",
       "      <td>0.227432</td>\n",
       "      <td>...</td>\n",
       "      <td>0.386823</td>\n",
       "      <td>0.004249</td>\n",
       "      <td>4.093446</td>\n",
       "      <td>0.180862</td>\n",
       "      <td>-0.143242</td>\n",
       "      <td>3.875123</td>\n",
       "      <td>0.195900</td>\n",
       "      <td>-0.429326</td>\n",
       "      <td>4.048687</td>\n",
       "      <td>0.220299</td>\n",
       "      <td>-0.486212</td>\n",
       "      <td>3.955844</td>\n",
       "      <td>0.488235</td>\n",
       "      <td>0.018086</td>\n",
       "      <td>4.074064</td>\n",
       "      <td>0.334751</td>\n",
       "      <td>-0.155982</td>\n",
       "      <td>3.815258</td>\n",
       "      <td>0.451717</td>\n",
       "      <td>-0.470404</td>\n",
       "      <td>3.969688</td>\n",
       "      <td>0.474182</td>\n",
       "      <td>-0.526941</td>\n",
       "      <td>3.877042</td>\n",
       "      <td>0.419262</td>\n",
       "      <td>0.406249</td>\n",
       "      <td>3.943238</td>\n",
       "      <td>0.208120</td>\n",
       "      <td>0.608896</td>\n",
       "      <td>3.880145</td>\n",
       "      <td>0.172790</td>\n",
       "      <td>0.540568</td>\n",
       "      <td>3.877889</td>\n",
       "      <td>0.538015</td>\n",
       "      <td>0.285437</td>\n",
       "      <td>3.607140</td>\n",
       "      <td>0.541454</td>\n",
       "      <td>0.294485</td>\n",
       "      <td>3.597500</td>\n",
       "      <td>2</td>\n",
       "    </tr>\n",
       "    <tr>\n",
       "      <th>3</th>\n",
       "      <td>0.441684</td>\n",
       "      <td>0.011612</td>\n",
       "      <td>4.112082</td>\n",
       "      <td>0.428414</td>\n",
       "      <td>0.239035</td>\n",
       "      <td>4.017493</td>\n",
       "      <td>0.415520</td>\n",
       "      <td>0.462060</td>\n",
       "      <td>3.915770</td>\n",
       "      <td>0.396432</td>\n",
       "      <td>0.582545</td>\n",
       "      <td>3.895000</td>\n",
       "      <td>0.299567</td>\n",
       "      <td>0.393885</td>\n",
       "      <td>4.000058</td>\n",
       "      <td>0.122038</td>\n",
       "      <td>0.348188</td>\n",
       "      <td>3.977703</td>\n",
       "      <td>0.179522</td>\n",
       "      <td>0.505916</td>\n",
       "      <td>3.900860</td>\n",
       "      <td>0.197280</td>\n",
       "      <td>0.559249</td>\n",
       "      <td>3.893288</td>\n",
       "      <td>0.566536</td>\n",
       "      <td>0.548710</td>\n",
       "      <td>4.044987</td>\n",
       "      <td>0.531015</td>\n",
       "      <td>0.511592</td>\n",
       "      <td>3.790628</td>\n",
       "      <td>0.528315</td>\n",
       "      <td>0.338723</td>\n",
       "      <td>3.635660</td>\n",
       "      <td>0.529196</td>\n",
       "      <td>0.309657</td>\n",
       "      <td>3.625098</td>\n",
       "      <td>0.388299</td>\n",
       "      <td>0.004874</td>\n",
       "      <td>4.090465</td>\n",
       "      <td>0.180948</td>\n",
       "      <td>...</td>\n",
       "      <td>0.377227</td>\n",
       "      <td>-0.000447</td>\n",
       "      <td>4.097655</td>\n",
       "      <td>0.179252</td>\n",
       "      <td>-0.144708</td>\n",
       "      <td>3.868785</td>\n",
       "      <td>0.196270</td>\n",
       "      <td>-0.430140</td>\n",
       "      <td>4.038725</td>\n",
       "      <td>0.156564</td>\n",
       "      <td>-0.485833</td>\n",
       "      <td>3.951505</td>\n",
       "      <td>0.487860</td>\n",
       "      <td>-0.008144</td>\n",
       "      <td>4.045833</td>\n",
       "      <td>0.323235</td>\n",
       "      <td>-0.149049</td>\n",
       "      <td>3.786463</td>\n",
       "      <td>0.439853</td>\n",
       "      <td>-0.472182</td>\n",
       "      <td>3.954978</td>\n",
       "      <td>0.398295</td>\n",
       "      <td>-0.527512</td>\n",
       "      <td>3.867947</td>\n",
       "      <td>0.424741</td>\n",
       "      <td>0.387086</td>\n",
       "      <td>3.944188</td>\n",
       "      <td>0.219533</td>\n",
       "      <td>-0.103769</td>\n",
       "      <td>3.840647</td>\n",
       "      <td>0.199185</td>\n",
       "      <td>-0.086971</td>\n",
       "      <td>3.853000</td>\n",
       "      <td>0.419361</td>\n",
       "      <td>-0.082200</td>\n",
       "      <td>3.837892</td>\n",
       "      <td>0.410779</td>\n",
       "      <td>-0.026258</td>\n",
       "      <td>3.839000</td>\n",
       "      <td>2</td>\n",
       "    </tr>\n",
       "    <tr>\n",
       "      <th>4</th>\n",
       "      <td>0.286811</td>\n",
       "      <td>0.168139</td>\n",
       "      <td>3.734849</td>\n",
       "      <td>0.288774</td>\n",
       "      <td>0.415689</td>\n",
       "      <td>3.650531</td>\n",
       "      <td>0.290175</td>\n",
       "      <td>0.658193</td>\n",
       "      <td>3.557110</td>\n",
       "      <td>0.260253</td>\n",
       "      <td>0.775526</td>\n",
       "      <td>3.525290</td>\n",
       "      <td>0.176420</td>\n",
       "      <td>0.604293</td>\n",
       "      <td>3.637196</td>\n",
       "      <td>0.155090</td>\n",
       "      <td>0.405268</td>\n",
       "      <td>3.778336</td>\n",
       "      <td>0.138438</td>\n",
       "      <td>0.217206</td>\n",
       "      <td>3.833165</td>\n",
       "      <td>0.122691</td>\n",
       "      <td>0.178318</td>\n",
       "      <td>3.850277</td>\n",
       "      <td>0.401347</td>\n",
       "      <td>0.561101</td>\n",
       "      <td>3.522032</td>\n",
       "      <td>0.482151</td>\n",
       "      <td>0.353557</td>\n",
       "      <td>3.594829</td>\n",
       "      <td>0.501666</td>\n",
       "      <td>0.169162</td>\n",
       "      <td>3.607278</td>\n",
       "      <td>0.491992</td>\n",
       "      <td>0.106504</td>\n",
       "      <td>3.620773</td>\n",
       "      <td>0.234575</td>\n",
       "      <td>0.169397</td>\n",
       "      <td>3.723695</td>\n",
       "      <td>0.263884</td>\n",
       "      <td>...</td>\n",
       "      <td>0.182669</td>\n",
       "      <td>0.187920</td>\n",
       "      <td>3.750454</td>\n",
       "      <td>0.252303</td>\n",
       "      <td>-0.138766</td>\n",
       "      <td>3.874888</td>\n",
       "      <td>0.297160</td>\n",
       "      <td>-0.410755</td>\n",
       "      <td>3.979622</td>\n",
       "      <td>0.255796</td>\n",
       "      <td>-0.465776</td>\n",
       "      <td>3.887480</td>\n",
       "      <td>0.291139</td>\n",
       "      <td>0.173553</td>\n",
       "      <td>3.705562</td>\n",
       "      <td>0.097447</td>\n",
       "      <td>-0.030583</td>\n",
       "      <td>3.557076</td>\n",
       "      <td>-0.151165</td>\n",
       "      <td>-0.333917</td>\n",
       "      <td>3.449322</td>\n",
       "      <td>-0.189010</td>\n",
       "      <td>-0.389120</td>\n",
       "      <td>3.357108</td>\n",
       "      <td>0.222134</td>\n",
       "      <td>0.601262</td>\n",
       "      <td>3.651914</td>\n",
       "      <td>-0.003648</td>\n",
       "      <td>0.094003</td>\n",
       "      <td>3.819715</td>\n",
       "      <td>-0.007122</td>\n",
       "      <td>0.151750</td>\n",
       "      <td>3.826333</td>\n",
       "      <td>0.474957</td>\n",
       "      <td>0.068992</td>\n",
       "      <td>3.611121</td>\n",
       "      <td>0.488455</td>\n",
       "      <td>0.128277</td>\n",
       "      <td>3.603967</td>\n",
       "      <td>3</td>\n",
       "    </tr>\n",
       "  </tbody>\n",
       "</table>\n",
       "<p>5 rows × 3751 columns</p>\n",
       "</div>"
      ],
      "text/plain": [
       "          0         1         2         3  ...      3747      3748      3749  labels\n",
       "0  0.216129  0.185681  3.767784  0.228515  ...  0.171550  0.370148  3.459167       0\n",
       "1  0.237631  0.235039  3.746806  0.246957  ... -0.008102  0.664465  2.972972       1\n",
       "2  0.443868 -0.031092  4.133648  0.434343  ...  0.541454  0.294485  3.597500       2\n",
       "3  0.441684  0.011612  4.112082  0.428414  ...  0.410779 -0.026258  3.839000       2\n",
       "4  0.286811  0.168139  3.734849  0.288774  ...  0.488455  0.128277  3.603967       3\n",
       "\n",
       "[5 rows x 3751 columns]"
      ]
     },
     "execution_count": 4,
     "metadata": {
      "tags": []
     },
     "output_type": "execute_result"
    }
   ],
   "source": [
    "df.head()"
   ]
  },
  {
   "cell_type": "code",
   "execution_count": null,
   "metadata": {
    "colab": {
     "base_uri": "https://localhost:8080/"
    },
    "id": "aD7jcmAkgsOp",
    "outputId": "62fcafc8-2ba6-4179-a1a8-b0be09d8d261"
   },
   "outputs": [
    {
     "name": "stdout",
     "output_type": "stream",
     "text": [
      "<class 'pandas.core.frame.DataFrame'>\n",
      "RangeIndex: 955 entries, 0 to 954\n",
      "Columns: 3751 entries, 0 to labels\n",
      "dtypes: float64(3750), int64(1)\n",
      "memory usage: 27.3 MB\n"
     ]
    }
   ],
   "source": [
    "df.info()"
   ]
  },
  {
   "cell_type": "code",
   "execution_count": null,
   "metadata": {
    "id": "jzZ4gFHkQP5B"
   },
   "outputs": [],
   "source": [
    "labelsDict = {5: 'drop', \n",
    "          7: 'throw', \n",
    "          20: 'put on a hat/cap', \n",
    "          24: 'kicking something', \n",
    "          27: 'jump up', \n",
    "          33: 'check time (from watch)', \n",
    "          38: 'salute', \n",
    "          50: 'punching/slapping other person', \n",
    "          72: 'make victory sign',\n",
    "          93: 'shake fist'}\n",
    "LABELS = list(labelsDict.values())"
   ]
  },
  {
   "cell_type": "code",
   "execution_count": null,
   "metadata": {
    "colab": {
     "base_uri": "https://localhost:8080/"
    },
    "id": "pHVp1_UJQP7T",
    "outputId": "92013a95-8959-4b91-8012-65ca029432a0"
   },
   "outputs": [
    {
     "data": {
      "text/plain": [
       "device(type='cuda', index=0)"
      ]
     },
     "execution_count": 7,
     "metadata": {
      "tags": []
     },
     "output_type": "execute_result"
    }
   ],
   "source": [
    "device = torch.device(\"cuda:0\" if torch.cuda.is_available() else \"cpu\")\n",
    "device"
   ]
  },
  {
   "cell_type": "markdown",
   "metadata": {
    "id": "K6Qyci0muBZ5"
   },
   "source": [
    "### LSTM"
   ]
  },
  {
   "cell_type": "code",
   "execution_count": null,
   "metadata": {
    "id": "AoVNOAEY88HP"
   },
   "outputs": [],
   "source": [
    "class LSTM_net(nn.Module):\n",
    "    # Для того, что бы инициализировать LSTM нам нужно указать:\n",
    "    # input_dim - размерность входного тензора. тензор входит в формате (seq_len, batch, input_dim)\n",
    "    # (batch_size, seq, inp_dim) - if batch_first=True\n",
    "    # hidden_dim - размерность вектора состояния h\n",
    "    # output_dim - размерность выхода\n",
    "    # layer_num - количество скрытых слоев в сети\n",
    "    def __init__(self, input_dim, hidden_dim, output_dim, layer_num):\n",
    "        super().__init__()\n",
    "        self.hidden_dim = hidden_dim\n",
    "        self.output_dim = output_dim\n",
    "        self.lstm = torch.nn.LSTM(input_dim, hidden_dim, layer_num, batch_first=True)\n",
    "        self.dr = torch.nn.Dropout2d(0.1)\n",
    "        self.fc = torch.nn.Linear(hidden_dim, output_dim)\n",
    "        \n",
    "        \n",
    "    def forward(self,inputs):\n",
    "        x = inputs\n",
    "        lstm_out, (hn, cn) = self.lstm(x)\n",
    "        out = self.fc(lstm_out[:,-1,:])\n",
    "        return out"
   ]
  },
  {
   "cell_type": "code",
   "execution_count": null,
   "metadata": {
    "colab": {
     "base_uri": "https://localhost:8080/"
    },
    "id": "PnLFAMnY88JN",
    "outputId": "2f0135b3-7582-43c3-eb89-f5399ddd86af"
   },
   "outputs": [
    {
     "data": {
      "text/plain": [
       "LSTM_net(\n",
       "  (lstm): LSTM(75, 128, num_layers=2, batch_first=True)\n",
       "  (dr): Dropout2d(p=0.1, inplace=False)\n",
       "  (fc): Linear(in_features=128, out_features=10, bias=True)\n",
       ")"
      ]
     },
     "execution_count": 9,
     "metadata": {
      "tags": []
     },
     "output_type": "execute_result"
    }
   ],
   "source": [
    "n_hidden = 128\n",
    "n_joints = 25*3\n",
    "n_categories = len(LABELS)\n",
    "n_layer = 2\n",
    "rnn = LSTM_net(n_joints, n_hidden, n_categories, n_layer)\n",
    "rnn.to(device)"
   ]
  },
  {
   "cell_type": "markdown",
   "metadata": {
    "id": "vL7hfiett7L3"
   },
   "source": [
    "### Datasets"
   ]
  },
  {
   "cell_type": "code",
   "execution_count": null,
   "metadata": {
    "id": "QkB0rwqC88LK"
   },
   "outputs": [],
   "source": [
    "class Skeleton_Dataset(Dataset):\n",
    "    def __init__(self, file_path, chonk, transform=None):\n",
    "        self.data = pd.read_csv(file_path)\n",
    "        self.transform = transform\n",
    "        self.labels = self.data.iloc[:,-1]\n",
    "        self.chonk = chonk\n",
    "\n",
    "    def __len__(self):\n",
    "        return len(self.data) \n",
    "    \n",
    "    def __getitem__(self, idx):\n",
    "        item = np.asarray(self.data.iloc[idx,:-1]).reshape(self.chonk, 25*3)\n",
    "        label = self.labels[idx]\n",
    "        \n",
    "        if self.transform != None:\n",
    "            item = transform(item)\n",
    "\n",
    "        return (item, label)"
   ]
  },
  {
   "cell_type": "code",
   "execution_count": null,
   "metadata": {
    "id": "RvCm-OdctUIt"
   },
   "outputs": [],
   "source": [
    "dataset = Skeleton_Dataset(file_path=\"/content/drive/MyDrive/skeleton50.csv\", chonk=50, transform=None)"
   ]
  },
  {
   "cell_type": "code",
   "execution_count": null,
   "metadata": {
    "id": "-Sc8nNCZtUN8"
   },
   "outputs": [],
   "source": [
    "def categoryFromOutput(output):\n",
    "    top_n, top_i = output.topk(1)\n",
    "    category_i = top_i[0].item()\n",
    "#     print(output.topk(5))\n",
    "    return LABELS[category_i], category_i\n",
    "\n",
    "def timeSince(since):\n",
    "    now = time.time()\n",
    "    s = now - since\n",
    "    m = math.floor(s / 60)\n",
    "    s -= m * 60\n",
    "    return '%dm %ds' % (m, s)"
   ]
  },
  {
   "cell_type": "code",
   "execution_count": null,
   "metadata": {
    "id": "ziXDEyPetUQU"
   },
   "outputs": [],
   "source": [
    "train_len = int(0.75*len(dataset))\n",
    "test_len = len(dataset) - train_len\n",
    "\n",
    "train_dataset, test_dataset = torch.utils.data.random_split(dataset, [train_len, test_len])\n",
    "\n",
    "train_loader = DataLoader(train_dataset, batch_size=16, shuffle=True)\n",
    "test_loader = DataLoader(test_dataset, batch_size=1, shuffle=True)"
   ]
  },
  {
   "cell_type": "code",
   "execution_count": null,
   "metadata": {
    "colab": {
     "base_uri": "https://localhost:8080/"
    },
    "id": "B6-6byN3tUSr",
    "outputId": "85748041-7293-4623-a2d2-02fa90531738"
   },
   "outputs": [
    {
     "name": "stdout",
     "output_type": "stream",
     "text": [
      "epoch : 0 iter : 0 (0m 0s) 2.2538  / check time (from watch) ✓\n",
      "epoch : 11 iter : 5 (0m 18s) 2.0461  / put on a hat/cap ✗ (kicking something)\n",
      "epoch : 22 iter : 10 (0m 36s) 2.0834  / put on a hat/cap ✗ (salute)\n",
      "epoch : 33 iter : 15 (0m 53s) 2.1138  / kicking something ✗ (put on a hat/cap)\n",
      "epoch : 44 iter : 20 (1m 11s) 2.0263  / kicking something ✗ (jump up)\n",
      "epoch : 55 iter : 25 (1m 29s) 1.9101  / kicking something ✗ (drop)\n",
      "epoch : 66 iter : 30 (1m 47s) 2.0447  / put on a hat/cap ✗ (throw)\n",
      "epoch : 77 iter : 35 (2m 4s) 1.4855  / put on a hat/cap ✗ (salute)\n",
      "epoch : 88 iter : 40 (2m 22s) 1.8322  / put on a hat/cap ✗ (throw)\n",
      "epoch : 100 iter : 0 (2m 40s) 1.8783  / punching/slapping other person ✗ (check time (from watch))\n",
      "epoch : 111 iter : 5 (2m 57s) 1.9528  / put on a hat/cap ✓\n",
      "epoch : 122 iter : 10 (3m 16s) 1.8004  / put on a hat/cap ✓\n",
      "epoch : 133 iter : 15 (3m 33s) 1.3811  / check time (from watch) ✓\n",
      "epoch : 144 iter : 20 (3m 51s) 1.9733  / salute ✗ (punching/slapping other person)\n",
      "epoch : 155 iter : 25 (4m 9s) 0.8750  / put on a hat/cap ✗ (throw)\n",
      "epoch : 166 iter : 30 (4m 27s) 1.5351  / check time (from watch) ✓\n",
      "epoch : 177 iter : 35 (4m 45s) 1.0855  / kicking something ✗ (drop)\n",
      "epoch : 188 iter : 40 (5m 2s) 0.9917  / put on a hat/cap ✓\n",
      "epoch : 200 iter : 0 (5m 20s) 1.2293  / kicking something ✗ (drop)\n",
      "epoch : 211 iter : 5 (5m 38s) 1.0663  / salute ✗ (punching/slapping other person)\n",
      "epoch : 222 iter : 10 (5m 56s) 1.4644  / jump up ✗ (salute)\n",
      "epoch : 233 iter : 15 (6m 14s) 1.2381  / drop ✗ (put on a hat/cap)\n",
      "epoch : 244 iter : 20 (6m 31s) 2.2647  / kicking something ✓\n",
      "epoch : 255 iter : 25 (6m 49s) 1.8375  / throw ✗ (put on a hat/cap)\n",
      "epoch : 266 iter : 30 (7m 7s) 1.9339  / drop ✗ (check time (from watch))\n",
      "epoch : 277 iter : 35 (7m 25s) 1.5343  / kicking something ✓\n",
      "epoch : 288 iter : 40 (7m 43s) 1.7457  / put on a hat/cap ✓\n",
      "epoch : 300 iter : 0 (8m 0s) 0.8457  / drop ✗ (put on a hat/cap)\n",
      "epoch : 311 iter : 5 (8m 18s) 1.0996  / drop ✓\n",
      "epoch : 322 iter : 10 (8m 36s) 1.1210  / put on a hat/cap ✗ (throw)\n",
      "epoch : 333 iter : 15 (8m 54s) 1.2008  / salute ✓\n",
      "epoch : 344 iter : 20 (9m 12s) 0.5821  / put on a hat/cap ✓\n",
      "epoch : 355 iter : 25 (9m 29s) 1.1248  / salute ✓\n",
      "epoch : 366 iter : 30 (9m 47s) 0.8820  / check time (from watch) ✓\n",
      "epoch : 377 iter : 35 (10m 5s) 0.5920  / put on a hat/cap ✓\n",
      "epoch : 388 iter : 40 (10m 23s) 0.6496  / kicking something ✓\n",
      "epoch : 400 iter : 0 (10m 41s) 0.8296  / jump up ✓\n",
      "epoch : 411 iter : 5 (10m 59s) 0.6234  / throw ✓\n",
      "epoch : 422 iter : 10 (11m 16s) 0.8547  / salute ✗ (put on a hat/cap)\n",
      "epoch : 433 iter : 15 (11m 34s) 0.6702  / salute ✗ (put on a hat/cap)\n",
      "epoch : 444 iter : 20 (11m 52s) 0.6107  / kicking something ✗ (put on a hat/cap)\n",
      "epoch : 455 iter : 25 (12m 10s) 0.2941  / salute ✓\n",
      "epoch : 466 iter : 30 (12m 27s) 0.7063  / put on a hat/cap ✓\n",
      "epoch : 477 iter : 35 (12m 45s) 0.3022  / kicking something ✓\n",
      "epoch : 488 iter : 40 (13m 3s) 0.4855  / check time (from watch) ✓\n",
      "epoch : 500 iter : 0 (13m 21s) 0.6406  / throw ✗ (salute)\n",
      "epoch : 511 iter : 5 (13m 39s) 0.2230  / jump up ✓\n",
      "epoch : 522 iter : 10 (13m 57s) 0.1259  / throw ✓\n",
      "epoch : 533 iter : 15 (14m 15s) 0.3486  / check time (from watch) ✓\n",
      "epoch : 544 iter : 20 (14m 32s) 0.2208  / jump up ✓\n",
      "epoch : 555 iter : 25 (14m 50s) 0.1861  / punching/slapping other person ✓\n",
      "epoch : 566 iter : 30 (15m 8s) 0.1246  / put on a hat/cap ✓\n",
      "epoch : 577 iter : 35 (15m 26s) 0.2688  / throw ✓\n",
      "epoch : 588 iter : 40 (15m 44s) 0.0950  / throw ✓\n"
     ]
    }
   ],
   "source": [
    "criterion = nn.CrossEntropyLoss()\n",
    "learning_rate = 0.0007\n",
    "optimizer = optim.SGD(rnn.parameters(), lr=learning_rate, momentum=0.9)\n",
    "\n",
    "all_losses = []\n",
    "start = time.time()\n",
    "counter = 0\n",
    "for epoch in range(600):  \n",
    "    current_loss = 0\n",
    "    running_loss = 0.0\n",
    "    for i, data in enumerate(train_loader, 0):\n",
    "        \n",
    "        inputs, labels = data[0].to(device), data[1].to(device)\n",
    "        optimizer.zero_grad()\n",
    "    \n",
    "        output = rnn(inputs.float())\n",
    "        loss = criterion(output, labels)\n",
    "        loss.backward()\n",
    "        optimizer.step() \n",
    "\n",
    "\n",
    "        current_loss += loss.item()\n",
    "        category = LABELS[int(labels[0])]\n",
    "\n",
    "        if counter % 500 == 0:\n",
    "            guess, guess_i = categoryFromOutput(output)\n",
    "            correct = '✓' if guess == category else '✗ (%s)' % category\n",
    "            print('epoch : %d iter : %d (%s) %.4f  / %s %s' % (epoch, i, timeSince(start), loss, guess, correct))\n",
    "\n",
    "        \n",
    "        counter = counter + 1\n",
    "    if counter % 100 == 0:\n",
    "        all_losses.append(current_loss / 25)\n",
    "        current_loss = 0"
   ]
  },
  {
   "cell_type": "code",
   "execution_count": null,
   "metadata": {
    "colab": {
     "base_uri": "https://localhost:8080/",
     "height": 341
    },
    "id": "aWSEewzutUVF",
    "outputId": "85182704-9f31-4345-88f8-5bdd2ced6c8a"
   },
   "outputs": [
    {
     "data": {
      "image/png": "[encoded data removed]",
      "text/plain": [
       "<Figure size 432x288 with 1 Axes>"
      ]
     },
     "metadata": {
      "needs_background": "light",
      "tags": []
     },
     "output_type": "display_data"
    }
   ],
   "source": [
    "plt. title('Model: ' + str(rnn))\n",
    "plt.plot(list(range(0, len(all_losses))), all_losses)\n",
    "plt.show()"
   ]
  },
  {
   "cell_type": "code",
   "execution_count": null,
   "metadata": {
    "id": "zbcRpyv1lOgh"
   },
   "outputs": [],
   "source": [
    "def result_model(model, test_loader):\n",
    "\n",
    "    total = 0\n",
    "    right = 0\n",
    "    counter = 0\n",
    "\n",
    "    rnn.eval()\n",
    "    with torch.no_grad():\n",
    "        for i, data in enumerate(test_loader, 0):\n",
    "            counter = counter + 1\n",
    "            inputs, labels = data[0].to(device), data[1].to(device)  \n",
    "            output = rnn(inputs.float())\n",
    "            guess, guess_i = categoryFromOutput(output)\n",
    "            category = LABELS[int(labels[0])]\n",
    "\n",
    "            if guess == category:\n",
    "                right = right + 1\n",
    "\n",
    "    return 100 * right / counter"
   ]
  },
  {
   "cell_type": "code",
   "execution_count": null,
   "metadata": {
    "colab": {
     "base_uri": "https://localhost:8080/"
    },
    "id": "US5nTcz8I1Jq",
    "outputId": "e50a7066-7beb-4973-a630-1b740a4a017f"
   },
   "outputs": [
    {
     "data": {
      "text/plain": [
       "75.31380753138075"
      ]
     },
     "execution_count": 17,
     "metadata": {
      "tags": []
     },
     "output_type": "execute_result"
    }
   ],
   "source": [
    "result_model(rnn, test_loader)"
   ]
  },
  {
   "cell_type": "code",
   "execution_count": null,
   "metadata": {
    "colab": {
     "base_uri": "https://localhost:8080/",
     "height": 80
    },
    "id": "I3CF5EswlOjt",
    "outputId": "2be4710c-360a-40ec-e651-6b5106d59f98"
   },
   "outputs": [
    {
     "data": {
      "text/html": [
       "<div>\n",
       "<style scoped>\n",
       "    .dataframe tbody tr th:only-of-type {\n",
       "        vertical-align: middle;\n",
       "    }\n",
       "\n",
       "    .dataframe tbody tr th {\n",
       "        vertical-align: top;\n",
       "    }\n",
       "\n",
       "    .dataframe thead th {\n",
       "        text-align: right;\n",
       "    }\n",
       "</style>\n",
       "<table border=\"1\" class=\"dataframe\">\n",
       "  <thead>\n",
       "    <tr style=\"text-align: right;\">\n",
       "      <th></th>\n",
       "      <th>accuracy</th>\n",
       "    </tr>\n",
       "  </thead>\n",
       "  <tbody>\n",
       "    <tr>\n",
       "      <th>rnn_layers2</th>\n",
       "      <td>75.313808</td>\n",
       "    </tr>\n",
       "  </tbody>\n",
       "</table>\n",
       "</div>"
      ],
      "text/plain": [
       "              accuracy\n",
       "rnn_layers2  75.313808"
      ]
     },
     "execution_count": 18,
     "metadata": {
      "tags": []
     },
     "output_type": "execute_result"
    }
   ],
   "source": [
    "result = {}\n",
    "result['rnn_layers2'] = result_model(rnn, test_loader)\n",
    "pd.DataFrame.from_dict(data=result, orient='index', columns=['accuracy'])"
   ]
  },
  {
   "cell_type": "markdown",
   "metadata": {
    "id": "MXuyO578JMq7"
   },
   "source": [
    "### Изменим количество скрытых слоев сети"
   ]
  },
  {
   "cell_type": "code",
   "execution_count": null,
   "metadata": {
    "colab": {
     "base_uri": "https://localhost:8080/",
     "height": 1000
    },
    "id": "TVZlGDB6lOmT",
    "outputId": "21d6ecc1-c169-46bf-df39-9dee3a6cebf5"
   },
   "outputs": [
    {
     "name": "stdout",
     "output_type": "stream",
     "text": [
      "epoch : 0 iter : 0 (0m 0s) 2.3572  / jump up ✗ (put on a hat/cap)\n",
      "epoch : 11 iter : 5 (0m 19s) 2.2973  / jump up ✓\n",
      "epoch : 22 iter : 10 (0m 38s) 2.3052  / jump up ✗ (throw)\n",
      "epoch : 33 iter : 15 (0m 57s) 2.3052  / jump up ✗ (punching/slapping other person)\n",
      "epoch : 44 iter : 20 (1m 16s) 2.3499  / jump up ✗ (drop)\n",
      "epoch : 55 iter : 25 (1m 35s) 2.3283  / jump up ✗ (kicking something)\n",
      "epoch : 66 iter : 30 (1m 54s) 2.3334  / jump up ✗ (put on a hat/cap)\n",
      "epoch : 77 iter : 35 (2m 13s) 2.3350  / jump up ✗ (put on a hat/cap)\n",
      "epoch : 88 iter : 40 (2m 32s) 2.3225  / jump up ✗ (punching/slapping other person)\n",
      "epoch : 100 iter : 0 (2m 51s) 2.2791  / jump up ✗ (punching/slapping other person)\n",
      "epoch : 111 iter : 5 (3m 10s) 2.3389  / jump up ✗ (put on a hat/cap)\n",
      "epoch : 122 iter : 10 (3m 29s) 2.3286  / jump up ✗ (kicking something)\n",
      "epoch : 133 iter : 15 (3m 48s) 2.3206  / jump up ✗ (check time (from watch))\n",
      "epoch : 144 iter : 20 (4m 7s) 2.3060  / jump up ✗ (throw)\n",
      "epoch : 155 iter : 25 (4m 26s) 2.3200  / jump up ✗ (salute)\n",
      "epoch : 166 iter : 30 (4m 45s) 2.3211  / jump up ✗ (put on a hat/cap)\n",
      "epoch : 177 iter : 35 (5m 4s) 2.3254  / jump up ✓\n",
      "epoch : 188 iter : 40 (5m 23s) 2.3234  / jump up ✓\n",
      "epoch : 200 iter : 0 (5m 42s) 2.3308  / jump up ✗ (punching/slapping other person)\n",
      "epoch : 211 iter : 5 (6m 1s) 2.3130  / jump up ✓\n",
      "epoch : 222 iter : 10 (6m 20s) 2.3099  / jump up ✗ (throw)\n",
      "epoch : 233 iter : 15 (6m 39s) 2.3088  / jump up ✗ (put on a hat/cap)\n",
      "epoch : 244 iter : 20 (6m 58s) 2.3235  / jump up ✗ (throw)\n",
      "epoch : 255 iter : 25 (7m 17s) 2.3242  / jump up ✗ (salute)\n",
      "epoch : 266 iter : 30 (7m 36s) 2.3110  / jump up ✗ (salute)\n",
      "epoch : 277 iter : 35 (7m 54s) 2.3318  / jump up ✗ (put on a hat/cap)\n",
      "epoch : 288 iter : 40 (8m 13s) 2.3344  / jump up ✗ (put on a hat/cap)\n",
      "epoch : 300 iter : 0 (8m 32s) 2.3117  / jump up ✗ (throw)\n",
      "epoch : 311 iter : 5 (8m 51s) 2.3279  / jump up ✗ (throw)\n",
      "epoch : 322 iter : 10 (9m 10s) 2.3207  / jump up ✗ (punching/slapping other person)\n",
      "epoch : 333 iter : 15 (9m 29s) 2.3049  / jump up ✗ (drop)\n",
      "epoch : 344 iter : 20 (9m 47s) 2.3142  / jump up ✗ (check time (from watch))\n",
      "epoch : 355 iter : 25 (10m 6s) 2.3013  / jump up ✗ (check time (from watch))\n",
      "epoch : 366 iter : 30 (10m 25s) 2.3211  / jump up ✗ (punching/slapping other person)\n",
      "epoch : 377 iter : 35 (10m 44s) 2.3383  / jump up ✓\n",
      "epoch : 388 iter : 40 (11m 2s) 2.3490  / jump up ✗ (put on a hat/cap)\n",
      "epoch : 400 iter : 0 (11m 21s) 2.2871  / jump up ✗ (punching/slapping other person)\n",
      "epoch : 411 iter : 5 (11m 40s) 2.3242  / jump up ✗ (throw)\n",
      "epoch : 422 iter : 10 (11m 59s) 2.3550  / shake fist ✗ (punching/slapping other person)\n",
      "epoch : 433 iter : 15 (12m 18s) 2.3268  / jump up ✗ (drop)\n",
      "epoch : 444 iter : 20 (12m 36s) 2.3114  / jump up ✗ (put on a hat/cap)\n",
      "epoch : 455 iter : 25 (12m 55s) 2.3388  / jump up ✗ (kicking something)\n",
      "epoch : 466 iter : 30 (13m 14s) 2.3335  / jump up ✗ (check time (from watch))\n",
      "epoch : 477 iter : 35 (13m 33s) 2.3059  / jump up ✓\n",
      "epoch : 488 iter : 40 (13m 52s) 2.3002  / jump up ✗ (drop)\n",
      "epoch : 500 iter : 0 (14m 10s) 2.3396  / jump up ✗ (put on a hat/cap)\n",
      "epoch : 511 iter : 5 (14m 29s) 2.3311  / jump up ✗ (put on a hat/cap)\n",
      "epoch : 522 iter : 10 (14m 48s) 2.3331  / jump up ✗ (put on a hat/cap)\n",
      "epoch : 533 iter : 15 (15m 7s) 2.3205  / jump up ✗ (check time (from watch))\n",
      "epoch : 544 iter : 20 (15m 26s) 2.3232  / jump up ✗ (drop)\n",
      "epoch : 555 iter : 25 (15m 44s) 2.3132  / jump up ✗ (punching/slapping other person)\n",
      "epoch : 566 iter : 30 (16m 3s) 2.3076  / jump up ✗ (put on a hat/cap)\n",
      "epoch : 577 iter : 35 (16m 22s) 2.3251  / jump up ✓\n",
      "epoch : 588 iter : 40 (16m 41s) 2.3360  / jump up ✓\n"
     ]
    },
    {
     "data": {
      "image/png": "[encoded data removed]",
      "text/plain": [
       "<Figure size 432x288 with 1 Axes>"
      ]
     },
     "metadata": {
      "needs_background": "light",
      "tags": []
     },
     "output_type": "display_data"
    },
    {
     "name": "stdout",
     "output_type": "stream",
     "text": [
      "epoch : 0 iter : 0 (0m 0s) 2.3276  / check time (from watch) ✗ (throw)\n",
      "epoch : 11 iter : 5 (0m 21s) 2.3198  / check time (from watch) ✗ (put on a hat/cap)\n",
      "epoch : 22 iter : 10 (0m 43s) 2.3027  / check time (from watch) ✗ (put on a hat/cap)\n",
      "epoch : 33 iter : 15 (1m 4s) 2.3323  / check time (from watch) ✗ (throw)\n",
      "epoch : 44 iter : 20 (1m 26s) 2.3250  / check time (from watch) ✗ (drop)\n",
      "epoch : 55 iter : 25 (1m 47s) 2.3330  / check time (from watch) ✗ (salute)\n",
      "epoch : 66 iter : 30 (2m 9s) 2.2934  / check time (from watch) ✗ (put on a hat/cap)\n",
      "epoch : 77 iter : 35 (2m 30s) 2.3065  / check time (from watch) ✗ (put on a hat/cap)\n",
      "epoch : 88 iter : 40 (2m 52s) 2.3238  / check time (from watch) ✗ (salute)\n",
      "epoch : 100 iter : 0 (3m 14s) 2.2980  / check time (from watch) ✗ (jump up)\n",
      "epoch : 111 iter : 5 (3m 36s) 2.3312  / check time (from watch) ✗ (kicking something)\n",
      "epoch : 122 iter : 10 (3m 57s) 2.3053  / check time (from watch) ✗ (throw)\n",
      "epoch : 133 iter : 15 (4m 19s) 2.3340  / check time (from watch) ✗ (jump up)\n",
      "epoch : 144 iter : 20 (4m 41s) 2.3255  / check time (from watch) ✗ (kicking something)\n",
      "epoch : 155 iter : 25 (5m 2s) 2.3026  / check time (from watch) ✓\n",
      "epoch : 166 iter : 30 (5m 24s) 2.3024  / check time (from watch) ✗ (drop)\n",
      "epoch : 177 iter : 35 (5m 46s) 2.3275  / check time (from watch) ✗ (jump up)\n",
      "epoch : 188 iter : 40 (6m 7s) 2.3093  / check time (from watch) ✗ (put on a hat/cap)\n",
      "epoch : 200 iter : 0 (6m 29s) 2.3219  / check time (from watch) ✓\n",
      "epoch : 211 iter : 5 (6m 50s) 2.3221  / check time (from watch) ✗ (put on a hat/cap)\n",
      "epoch : 222 iter : 10 (7m 12s) 2.3065  / check time (from watch) ✗ (put on a hat/cap)\n",
      "epoch : 233 iter : 15 (7m 33s) 2.3118  / check time (from watch) ✗ (put on a hat/cap)\n",
      "epoch : 244 iter : 20 (7m 55s) 2.3070  / check time (from watch) ✗ (kicking something)\n",
      "epoch : 255 iter : 25 (8m 16s) 2.3232  / check time (from watch) ✗ (drop)\n",
      "epoch : 266 iter : 30 (8m 38s) 2.3220  / check time (from watch) ✓\n",
      "epoch : 277 iter : 35 (9m 0s) 2.3092  / check time (from watch) ✗ (put on a hat/cap)\n",
      "epoch : 288 iter : 40 (9m 21s) 2.3043  / check time (from watch) ✗ (throw)\n",
      "epoch : 300 iter : 0 (9m 43s) 2.2971  / check time (from watch) ✗ (jump up)\n",
      "epoch : 311 iter : 5 (10m 5s) 2.3187  / check time (from watch) ✗ (throw)\n",
      "epoch : 322 iter : 10 (10m 27s) 2.2961  / check time (from watch) ✗ (jump up)\n",
      "epoch : 333 iter : 15 (10m 49s) 2.3037  / check time (from watch) ✗ (drop)\n",
      "epoch : 344 iter : 20 (11m 10s) 2.3133  / check time (from watch) ✗ (salute)\n",
      "epoch : 355 iter : 25 (11m 33s) 2.3288  / check time (from watch) ✗ (kicking something)\n",
      "epoch : 366 iter : 30 (11m 54s) 2.3404  / check time (from watch) ✗ (punching/slapping other person)\n",
      "epoch : 377 iter : 35 (12m 16s) 2.2960  / check time (from watch) ✗ (put on a hat/cap)\n",
      "epoch : 388 iter : 40 (12m 37s) 2.3461  / check time (from watch) ✗ (punching/slapping other person)\n",
      "epoch : 400 iter : 0 (12m 59s) 2.3104  / check time (from watch) ✗ (kicking something)\n",
      "epoch : 411 iter : 5 (13m 21s) 2.3285  / check time (from watch) ✗ (drop)\n",
      "epoch : 422 iter : 10 (13m 43s) 2.3093  / check time (from watch) ✗ (throw)\n",
      "epoch : 433 iter : 15 (14m 4s) 2.3198  / check time (from watch) ✗ (put on a hat/cap)\n",
      "epoch : 444 iter : 20 (14m 26s) 2.3177  / check time (from watch) ✓\n",
      "epoch : 455 iter : 25 (14m 48s) 2.3318  / check time (from watch) ✗ (jump up)\n",
      "epoch : 466 iter : 30 (15m 9s) 2.3277  / check time (from watch) ✓\n",
      "epoch : 477 iter : 35 (15m 31s) 2.3208  / check time (from watch) ✗ (jump up)\n",
      "epoch : 488 iter : 40 (15m 53s) 2.3243  / check time (from watch) ✗ (drop)\n",
      "epoch : 500 iter : 0 (16m 15s) 2.3303  / check time (from watch) ✗ (jump up)\n",
      "epoch : 511 iter : 5 (16m 36s) 2.2845  / check time (from watch) ✗ (salute)\n",
      "epoch : 522 iter : 10 (16m 58s) 2.3149  / check time (from watch) ✗ (throw)\n",
      "epoch : 533 iter : 15 (17m 20s) 2.3156  / check time (from watch) ✗ (put on a hat/cap)\n",
      "epoch : 544 iter : 20 (17m 41s) 2.2962  / check time (from watch) ✗ (drop)\n",
      "epoch : 555 iter : 25 (18m 3s) 2.2888  / check time (from watch) ✓\n",
      "epoch : 566 iter : 30 (18m 25s) 2.2969  / check time (from watch) ✗ (put on a hat/cap)\n",
      "epoch : 577 iter : 35 (18m 46s) 2.3092  / check time (from watch) ✗ (jump up)\n",
      "epoch : 588 iter : 40 (19m 8s) 2.3087  / check time (from watch) ✗ (punching/slapping other person)\n"
     ]
    },
    {
     "data": {
      "image/png": "[encoded data removed]",
      "text/plain": [
       "<Figure size 432x288 with 1 Axes>"
      ]
     },
     "metadata": {
      "needs_background": "light",
      "tags": []
     },
     "output_type": "display_data"
    },
    {
     "name": "stdout",
     "output_type": "stream",
     "text": [
      "epoch : 0 iter : 0 (0m 0s) 2.2989  / throw ✗ (kicking something)\n",
      "epoch : 11 iter : 5 (0m 24s) 2.3172  / throw ✗ (drop)\n",
      "epoch : 22 iter : 10 (0m 48s) 2.3217  / throw ✗ (drop)\n",
      "epoch : 33 iter : 15 (1m 13s) 2.3098  / throw ✗ (drop)\n",
      "epoch : 44 iter : 20 (1m 37s) 2.2865  / throw ✗ (jump up)\n",
      "epoch : 55 iter : 25 (2m 2s) 2.2965  / throw ✗ (check time (from watch))\n",
      "epoch : 66 iter : 30 (2m 26s) 2.2996  / throw ✗ (salute)\n",
      "epoch : 77 iter : 35 (2m 51s) 2.3014  / throw ✗ (drop)\n",
      "epoch : 88 iter : 40 (3m 15s) 2.3068  / throw ✗ (kicking something)\n",
      "epoch : 100 iter : 0 (3m 40s) 2.2952  / throw ✗ (put on a hat/cap)\n",
      "epoch : 111 iter : 5 (4m 4s) 2.3072  / throw ✗ (kicking something)\n",
      "epoch : 122 iter : 10 (4m 29s) 2.3040  / throw ✗ (salute)\n",
      "epoch : 133 iter : 15 (4m 53s) 2.2951  / throw ✗ (punching/slapping other person)\n",
      "epoch : 144 iter : 20 (5m 18s) 2.3040  / throw ✗ (drop)\n",
      "epoch : 155 iter : 25 (5m 42s) 2.2792  / throw ✗ (salute)\n",
      "epoch : 166 iter : 30 (6m 6s) 2.2945  / throw ✗ (punching/slapping other person)\n",
      "epoch : 177 iter : 35 (6m 30s) 2.2967  / throw ✗ (salute)\n",
      "epoch : 188 iter : 40 (6m 54s) 2.2828  / throw ✗ (kicking something)\n",
      "epoch : 200 iter : 0 (7m 18s) 2.3038  / throw ✗ (put on a hat/cap)\n",
      "epoch : 211 iter : 5 (7m 41s) 2.2976  / throw ✗ (check time (from watch))\n",
      "epoch : 222 iter : 10 (8m 5s) 2.2726  / throw ✗ (put on a hat/cap)\n",
      "epoch : 233 iter : 15 (8m 29s) 2.2995  / throw ✓\n",
      "epoch : 244 iter : 20 (8m 53s) 2.3096  / throw ✗ (salute)\n",
      "epoch : 255 iter : 25 (9m 16s) 2.3104  / throw ✗ (drop)\n",
      "epoch : 266 iter : 30 (9m 40s) 2.2974  / throw ✓\n",
      "epoch : 277 iter : 35 (10m 4s) 2.3200  / throw ✗ (drop)\n",
      "epoch : 288 iter : 40 (10m 28s) 2.3125  / throw ✗ (check time (from watch))\n",
      "epoch : 300 iter : 0 (10m 52s) 2.2759  / throw ✗ (jump up)\n",
      "epoch : 311 iter : 5 (11m 16s) 2.2805  / throw ✗ (kicking something)\n",
      "epoch : 322 iter : 10 (11m 39s) 2.2756  / throw ✗ (jump up)\n",
      "epoch : 333 iter : 15 (12m 3s) 2.3042  / throw ✗ (put on a hat/cap)\n",
      "epoch : 344 iter : 20 (12m 27s) 2.2958  / throw ✗ (put on a hat/cap)\n",
      "epoch : 355 iter : 25 (12m 51s) 2.2969  / throw ✗ (drop)\n",
      "epoch : 366 iter : 30 (13m 14s) 2.3009  / throw ✓\n",
      "epoch : 377 iter : 35 (13m 38s) 2.3149  / throw ✗ (kicking something)\n",
      "epoch : 388 iter : 40 (14m 2s) 2.3013  / throw ✗ (salute)\n",
      "epoch : 400 iter : 0 (14m 25s) 2.2878  / throw ✗ (punching/slapping other person)\n",
      "epoch : 411 iter : 5 (14m 49s) 2.3083  / throw ✗ (drop)\n",
      "epoch : 422 iter : 10 (15m 13s) 2.2992  / throw ✗ (drop)\n",
      "epoch : 433 iter : 15 (15m 36s) 2.3109  / throw ✗ (salute)\n",
      "epoch : 444 iter : 20 (16m 0s) 2.3062  / throw ✗ (put on a hat/cap)\n",
      "epoch : 455 iter : 25 (16m 24s) 2.3062  / throw ✗ (jump up)\n",
      "epoch : 466 iter : 30 (16m 47s) 2.2912  / throw ✗ (punching/slapping other person)\n",
      "epoch : 477 iter : 35 (17m 11s) 2.3027  / throw ✗ (jump up)\n",
      "epoch : 488 iter : 40 (17m 35s) 2.2935  / throw ✓\n",
      "epoch : 500 iter : 0 (17m 58s) 2.2876  / throw ✗ (put on a hat/cap)\n",
      "epoch : 511 iter : 5 (18m 22s) 2.3031  / throw ✓\n",
      "epoch : 522 iter : 10 (18m 46s) 2.3081  / throw ✗ (salute)\n",
      "epoch : 533 iter : 15 (19m 10s) 2.2911  / throw ✗ (put on a hat/cap)\n",
      "epoch : 544 iter : 20 (19m 34s) 2.2800  / throw ✓\n",
      "epoch : 555 iter : 25 (19m 58s) 2.2869  / throw ✗ (put on a hat/cap)\n",
      "epoch : 566 iter : 30 (20m 21s) 2.2834  / throw ✗ (put on a hat/cap)\n",
      "epoch : 577 iter : 35 (20m 45s) 2.2806  / throw ✗ (punching/slapping other person)\n",
      "epoch : 588 iter : 40 (21m 9s) 2.2987  / throw ✓\n"
     ]
    },
    {
     "data": {
      "image/png": "[encoded data removed]",
      "text/plain": [
       "<Figure size 432x288 with 1 Axes>"
      ]
     },
     "metadata": {
      "needs_background": "light",
      "tags": []
     },
     "output_type": "display_data"
    }
   ],
   "source": [
    "for layer in [4, 8, 12]:\n",
    "\n",
    "    n_hidden = 128\n",
    "    n_joints = 25*3\n",
    "    n_categories = len(LABELS)\n",
    "    model = LSTM_net(n_joints, n_hidden, n_categories, layer)\n",
    "    model.to(device)\n",
    "\n",
    "    criterion = nn.CrossEntropyLoss()\n",
    "    learning_rate = 0.0007\n",
    "    optimizer = optim.SGD(rnn.parameters(), lr=learning_rate, momentum=0.9)\n",
    "\n",
    "    all_losses = []\n",
    "    start = time.time()\n",
    "    counter = 0\n",
    "    for epoch in range(600):  \n",
    "        current_loss = 0\n",
    "        running_loss = 0.0\n",
    "        for i, data in enumerate(train_loader, 0):\n",
    "        \n",
    "            inputs, labels = data[0].to(device), data[1].to(device)\n",
    "            optimizer.zero_grad()\n",
    "    \n",
    "            output = model(inputs.float())\n",
    "            loss = criterion(output, labels)\n",
    "            loss.backward()\n",
    "            optimizer.step() \n",
    "\n",
    "\n",
    "            current_loss += loss.item()\n",
    "            category = LABELS[int(labels[0])]\n",
    "\n",
    "            if counter % 500 == 0:\n",
    "                guess, guess_i = categoryFromOutput(output)\n",
    "                correct = '✓' if guess == category else '✗ (%s)' % category\n",
    "                print('epoch : %d iter : %d (%s) %.4f  / %s %s' % (epoch, i, timeSince(start), loss, guess, correct))\n",
    "\n",
    "        \n",
    "            counter = counter + 1\n",
    "        if counter % 100 == 0:\n",
    "            all_losses.append(current_loss / 25)\n",
    "            current_loss = 0\n",
    "\n",
    "    plt.plot(list(range(0, len(all_losses))), all_losses)\n",
    "    plt.show()\n",
    "\n",
    "    result['rnn_layers'+ str(layer)] = result_model(model, test_loader)"
   ]
  },
  {
   "cell_type": "code",
   "execution_count": null,
   "metadata": {
    "colab": {
     "base_uri": "https://localhost:8080/",
     "height": 173
    },
    "id": "H5xmoS2YlOpJ",
    "outputId": "38af4d78-d218-405a-ca87-75b3113f8a86"
   },
   "outputs": [
    {
     "data": {
      "text/html": [
       "<div>\n",
       "<style scoped>\n",
       "    .dataframe tbody tr th:only-of-type {\n",
       "        vertical-align: middle;\n",
       "    }\n",
       "\n",
       "    .dataframe tbody tr th {\n",
       "        vertical-align: top;\n",
       "    }\n",
       "\n",
       "    .dataframe thead th {\n",
       "        text-align: right;\n",
       "    }\n",
       "</style>\n",
       "<table border=\"1\" class=\"dataframe\">\n",
       "  <thead>\n",
       "    <tr style=\"text-align: right;\">\n",
       "      <th></th>\n",
       "      <th>accuracy</th>\n",
       "    </tr>\n",
       "  </thead>\n",
       "  <tbody>\n",
       "    <tr>\n",
       "      <th>rnn_layers2</th>\n",
       "      <td>75.313808</td>\n",
       "    </tr>\n",
       "    <tr>\n",
       "      <th>rnn_layers4</th>\n",
       "      <td>75.313808</td>\n",
       "    </tr>\n",
       "    <tr>\n",
       "      <th>rnn_layers8</th>\n",
       "      <td>75.313808</td>\n",
       "    </tr>\n",
       "    <tr>\n",
       "      <th>rnn_layers12</th>\n",
       "      <td>75.313808</td>\n",
       "    </tr>\n",
       "  </tbody>\n",
       "</table>\n",
       "</div>"
      ],
      "text/plain": [
       "               accuracy\n",
       "rnn_layers2   75.313808\n",
       "rnn_layers4   75.313808\n",
       "rnn_layers8   75.313808\n",
       "rnn_layers12  75.313808"
      ]
     },
     "execution_count": 20,
     "metadata": {
      "tags": []
     },
     "output_type": "execute_result"
    }
   ],
   "source": [
    "pd.DataFrame.from_dict(data=result, orient='index', columns=['accuracy'])"
   ]
  },
  {
   "cell_type": "markdown",
   "metadata": {},
   "source": [
    "Очень странно при изменении скрытого слоя результат остался точно такой же, скорее всего тут моя ошибка. "
   ]
  },
  {
   "cell_type": "markdown",
   "metadata": {
    "id": "uWf7NFRVKkLx"
   },
   "source": [
    "### Изменим количество кадров"
   ]
  },
  {
   "cell_type": "code",
   "execution_count": null,
   "metadata": {
    "id": "uHMsWYk8lO-G"
   },
   "outputs": [],
   "source": [
    "dataset25 = Skeleton_Dataset(file_path=\"/content/drive/MyDrive/skeleton25.csv\", chonk=25, transform=None)\n",
    "dataset75 = Skeleton_Dataset(file_path=\"/content/drive/MyDrive/skeleton75.csv\", chonk=75, transform=None)"
   ]
  },
  {
   "cell_type": "code",
   "execution_count": null,
   "metadata": {
    "id": "WIM1FkjMhwQr"
   },
   "outputs": [],
   "source": [
    "train_len25 = int(0.75*len(dataset25))\n",
    "test_len25 = len(dataset25) - train_len25\n",
    "\n",
    "train_dataset25, test_dataset25 = torch.utils.data.random_split(dataset25, [train_len25, test_len25])\n",
    "\n",
    "train_loader25 = DataLoader(train_dataset25, batch_size=16, shuffle=True)\n",
    "test_loader25 = DataLoader(test_dataset25, batch_size=1, shuffle=True)"
   ]
  },
  {
   "cell_type": "code",
   "execution_count": null,
   "metadata": {
    "colab": {
     "base_uri": "https://localhost:8080/"
    },
    "id": "2gIG_-DjhwVy",
    "outputId": "cc4808f8-c085-4009-c3f8-77102a458be8"
   },
   "outputs": [
    {
     "data": {
      "text/plain": [
       "LSTM_net(\n",
       "  (lstm): LSTM(75, 128, num_layers=2, batch_first=True)\n",
       "  (dr): Dropout2d(p=0.1, inplace=False)\n",
       "  (fc): Linear(in_features=128, out_features=10, bias=True)\n",
       ")"
      ]
     },
     "execution_count": 23,
     "metadata": {
      "tags": []
     },
     "output_type": "execute_result"
    }
   ],
   "source": [
    "n_hidden = 128\n",
    "n_joints = 25*3\n",
    "n_categories = len(LABELS)\n",
    "n_layer = 2\n",
    "rnn2 = LSTM_net(n_joints, n_hidden, n_categories, n_layer)\n",
    "rnn2.to(device)"
   ]
  },
  {
   "cell_type": "code",
   "execution_count": null,
   "metadata": {
    "colab": {
     "base_uri": "https://localhost:8080/"
    },
    "id": "1ysX5XHfhwYU",
    "outputId": "f9b8b3ce-e69a-411b-ddba-e324774872a2"
   },
   "outputs": [
    {
     "name": "stdout",
     "output_type": "stream",
     "text": [
      "epoch : 0 iter : 0 (0m 0s) 2.3436  / shake fist ✗ (throw)\n",
      "epoch : 8 iter : 44 (0m 9s) 2.1363  / put on a hat/cap ✗ (drop)\n",
      "epoch : 17 iter : 31 (0m 19s) 2.1130  / put on a hat/cap ✗ (jump up)\n",
      "epoch : 26 iter : 18 (0m 28s) 2.0879  / put on a hat/cap ✗ (check time (from watch))\n",
      "epoch : 35 iter : 5 (0m 38s) 2.0708  / put on a hat/cap ✗ (throw)\n",
      "epoch : 43 iter : 49 (0m 47s) 2.0030  / put on a hat/cap ✗ (jump up)\n",
      "epoch : 52 iter : 36 (0m 57s) 1.9865  / kicking something ✗ (put on a hat/cap)\n",
      "epoch : 61 iter : 23 (1m 6s) 1.8186  / check time (from watch) ✗ (drop)\n",
      "epoch : 70 iter : 10 (1m 16s) 2.0241  / check time (from watch) ✗ (salute)\n",
      "epoch : 78 iter : 54 (1m 26s) 1.3569  / check time (from watch) ✓\n",
      "epoch : 87 iter : 41 (1m 35s) 1.5017  / punching/slapping other person ✓\n",
      "epoch : 96 iter : 28 (1m 45s) 1.7445  / put on a hat/cap ✓\n",
      "epoch : 105 iter : 15 (1m 54s) 1.2723  / check time (from watch) ✓\n",
      "epoch : 114 iter : 2 (2m 4s) 1.6551  / put on a hat/cap ✓\n",
      "epoch : 122 iter : 46 (2m 13s) 1.4328  / put on a hat/cap ✓\n",
      "epoch : 131 iter : 33 (2m 23s) 1.3124  / punching/slapping other person ✓\n",
      "epoch : 140 iter : 20 (2m 32s) 1.2228  / kicking something ✗ (jump up)\n",
      "epoch : 149 iter : 7 (2m 42s) 1.5201  / put on a hat/cap ✗ (check time (from watch))\n",
      "epoch : 157 iter : 51 (2m 51s) 1.1829  / throw ✓\n",
      "epoch : 166 iter : 38 (3m 1s) 1.4681  / punching/slapping other person ✓\n",
      "epoch : 175 iter : 25 (3m 10s) 1.1596  / punching/slapping other person ✓\n",
      "epoch : 184 iter : 12 (3m 20s) 1.3063  / put on a hat/cap ✓\n",
      "epoch : 192 iter : 56 (3m 29s) 0.9502  / punching/slapping other person ✓\n",
      "epoch : 201 iter : 43 (3m 39s) 0.8713  / throw ✓\n",
      "epoch : 210 iter : 30 (3m 48s) 1.2473  / check time (from watch) ✓\n",
      "epoch : 219 iter : 17 (3m 58s) 1.5237  / punching/slapping other person ✓\n",
      "epoch : 228 iter : 4 (4m 7s) 0.9581  / kicking something ✗ (throw)\n",
      "epoch : 236 iter : 48 (4m 17s) 0.9417  / drop ✓\n",
      "epoch : 245 iter : 35 (4m 26s) 2.0399  / put on a hat/cap ✓\n",
      "epoch : 254 iter : 22 (4m 36s) 1.0954  / drop ✓\n",
      "epoch : 263 iter : 9 (4m 46s) 0.9429  / put on a hat/cap ✓\n",
      "epoch : 271 iter : 53 (4m 55s) 1.0543  / drop ✗ (salute)\n",
      "epoch : 280 iter : 40 (5m 5s) 0.9210  / jump up ✗ (kicking something)\n",
      "epoch : 289 iter : 27 (5m 15s) 0.7608  / throw ✓\n",
      "epoch : 298 iter : 14 (5m 25s) 0.4535  / salute ✗ (check time (from watch))\n",
      "epoch : 307 iter : 1 (5m 34s) 0.6177  / punching/slapping other person ✓\n",
      "epoch : 315 iter : 45 (5m 44s) 0.8928  / put on a hat/cap ✗ (punching/slapping other person)\n",
      "epoch : 324 iter : 32 (5m 53s) 0.9267  / drop ✓\n",
      "epoch : 333 iter : 19 (6m 3s) 0.8531  / punching/slapping other person ✓\n",
      "epoch : 342 iter : 6 (6m 12s) 0.6404  / drop ✓\n",
      "epoch : 350 iter : 50 (6m 22s) 0.7545  / drop ✗ (check time (from watch))\n",
      "epoch : 359 iter : 37 (6m 32s) 0.7363  / punching/slapping other person ✓\n",
      "epoch : 368 iter : 24 (6m 41s) 0.9158  / drop ✓\n",
      "epoch : 377 iter : 11 (6m 50s) 0.5930  / jump up ✓\n",
      "epoch : 385 iter : 55 (7m 0s) 0.7515  / check time (from watch) ✓\n",
      "epoch : 394 iter : 42 (7m 9s) 0.5333  / drop ✓\n",
      "epoch : 403 iter : 29 (7m 19s) 0.4154  / kicking something ✓\n",
      "epoch : 412 iter : 16 (7m 28s) 0.6502  / throw ✓\n",
      "epoch : 421 iter : 3 (7m 38s) 0.7870  / put on a hat/cap ✓\n",
      "epoch : 429 iter : 47 (7m 47s) 1.0694  / kicking something ✗ (throw)\n",
      "epoch : 438 iter : 34 (7m 56s) 0.3925  / put on a hat/cap ✓\n",
      "epoch : 447 iter : 21 (8m 6s) 0.5125  / check time (from watch) ✓\n",
      "epoch : 456 iter : 8 (8m 15s) 0.7768  / jump up ✗ (kicking something)\n",
      "epoch : 464 iter : 52 (8m 25s) 0.5000  / punching/slapping other person ✓\n",
      "epoch : 473 iter : 39 (8m 34s) 0.2487  / check time (from watch) ✓\n",
      "epoch : 482 iter : 26 (8m 44s) 0.4300  / kicking something ✓\n",
      "epoch : 491 iter : 13 (8m 53s) 0.2050  / check time (from watch) ✓\n",
      "epoch : 500 iter : 0 (9m 3s) 0.5122  / check time (from watch) ✓\n",
      "epoch : 508 iter : 44 (9m 12s) 0.3963  / drop ✓\n",
      "epoch : 517 iter : 31 (9m 21s) 0.3014  / drop ✓\n",
      "epoch : 526 iter : 18 (9m 31s) 0.5084  / put on a hat/cap ✗ (throw)\n",
      "epoch : 535 iter : 5 (9m 40s) 0.4737  / throw ✗ (check time (from watch))\n",
      "epoch : 543 iter : 49 (9m 50s) 0.1309  / salute ✓\n",
      "epoch : 552 iter : 36 (9m 59s) 0.3107  / salute ✗ (throw)\n",
      "epoch : 561 iter : 23 (10m 8s) 0.2187  / put on a hat/cap ✓\n",
      "epoch : 570 iter : 10 (10m 18s) 0.1782  / punching/slapping other person ✓\n",
      "epoch : 578 iter : 54 (10m 27s) 0.3130  / punching/slapping other person ✓\n",
      "epoch : 587 iter : 41 (10m 37s) 0.2934  / jump up ✓\n",
      "epoch : 596 iter : 28 (10m 46s) 0.0833  / punching/slapping other person ✓\n"
     ]
    }
   ],
   "source": [
    "criterion = nn.CrossEntropyLoss()\n",
    "learning_rate = 0.0007\n",
    "optimizer = optim.SGD(rnn2.parameters(), lr=learning_rate, momentum=0.9)\n",
    "\n",
    "all_losses = []\n",
    "start = time.time()\n",
    "counter = 0\n",
    "for epoch in range(600):  \n",
    "    current_loss = 0\n",
    "    running_loss = 0.0\n",
    "    for i, data in enumerate(train_loader25, 0):\n",
    "        \n",
    "        inputs, labels = data[0].to(device), data[1].to(device)\n",
    "        optimizer.zero_grad()\n",
    "    \n",
    "        output = rnn2(inputs.float())\n",
    "        loss = criterion(output, labels)\n",
    "        loss.backward()\n",
    "        optimizer.step() \n",
    "\n",
    "\n",
    "        current_loss += loss.item()\n",
    "        category = LABELS[int(labels[0])]\n",
    "\n",
    "        if counter % 500 == 0:\n",
    "            guess, guess_i = categoryFromOutput(output)\n",
    "            correct = '✓' if guess == category else '✗ (%s)' % category\n",
    "            print('epoch : %d iter : %d (%s) %.4f  / %s %s' % (epoch, i, timeSince(start), loss, guess, correct))\n",
    "\n",
    "        \n",
    "        counter = counter + 1\n",
    "    if counter % 100 == 0:\n",
    "        all_losses.append(current_loss / 25)\n",
    "        current_loss = 0"
   ]
  },
  {
   "cell_type": "code",
   "execution_count": null,
   "metadata": {
    "colab": {
     "base_uri": "https://localhost:8080/",
     "height": 54
    },
    "id": "KHTIloRRjHM5",
    "outputId": "6866228a-015f-4347-9a2c-a1cff8ea06e2"
   },
   "outputs": [
    {
     "data": {
      "image/png": "[encoded data removed]",
      "text/plain": [
       "<Figure size 432x288 with 1 Axes>"
      ]
     },
     "metadata": {
      "needs_background": "light",
      "tags": []
     },
     "output_type": "display_data"
    }
   ],
   "source": [
    "plt. title('Model: ' + str(rnn2))\n",
    "plt.plot(list(range(0, len(all_losses))), all_losses)\n",
    "plt.show()"
   ]
  },
  {
   "cell_type": "code",
   "execution_count": null,
   "metadata": {
    "colab": {
     "base_uri": "https://localhost:8080/",
     "height": 204
    },
    "id": "X84Z1lWgjVvN",
    "outputId": "3676301b-6112-4a70-9873-f7c7490dda60"
   },
   "outputs": [
    {
     "data": {
      "text/html": [
       "<div>\n",
       "<style scoped>\n",
       "    .dataframe tbody tr th:only-of-type {\n",
       "        vertical-align: middle;\n",
       "    }\n",
       "\n",
       "    .dataframe tbody tr th {\n",
       "        vertical-align: top;\n",
       "    }\n",
       "\n",
       "    .dataframe thead th {\n",
       "        text-align: right;\n",
       "    }\n",
       "</style>\n",
       "<table border=\"1\" class=\"dataframe\">\n",
       "  <thead>\n",
       "    <tr style=\"text-align: right;\">\n",
       "      <th></th>\n",
       "      <th>accuracy</th>\n",
       "    </tr>\n",
       "  </thead>\n",
       "  <tbody>\n",
       "    <tr>\n",
       "      <th>rnn_layers2</th>\n",
       "      <td>75.313808</td>\n",
       "    </tr>\n",
       "    <tr>\n",
       "      <th>rnn_layers4</th>\n",
       "      <td>75.313808</td>\n",
       "    </tr>\n",
       "    <tr>\n",
       "      <th>rnn_layers8</th>\n",
       "      <td>75.313808</td>\n",
       "    </tr>\n",
       "    <tr>\n",
       "      <th>rnn_layers12</th>\n",
       "      <td>75.313808</td>\n",
       "    </tr>\n",
       "    <tr>\n",
       "      <th>rnn_layers2_25</th>\n",
       "      <td>45.065789</td>\n",
       "    </tr>\n",
       "  </tbody>\n",
       "</table>\n",
       "</div>"
      ],
      "text/plain": [
       "                 accuracy\n",
       "rnn_layers2     75.313808\n",
       "rnn_layers4     75.313808\n",
       "rnn_layers8     75.313808\n",
       "rnn_layers12    75.313808\n",
       "rnn_layers2_25  45.065789"
      ]
     },
     "execution_count": 26,
     "metadata": {
      "tags": []
     },
     "output_type": "execute_result"
    }
   ],
   "source": [
    "result['rnn_layers2_25'] = result_model(rnn2, test_loader25)\n",
    "pd.DataFrame.from_dict(data=result, orient='index', columns=['accuracy'])"
   ]
  },
  {
   "cell_type": "markdown",
   "metadata": {
    "id": "iLaG5wC8hwew"
   },
   "source": [
    "При измении количества кадров точность упала, не факт что при увелечении она возрастет, но это нужно проверять. Лучшую точность на мой взгляд показала первая модель. "
   ]
  },
  {
   "cell_type": "code",
   "execution_count": null,
   "metadata": {},
   "outputs": [],
   "source": []
  }
 ],
 "metadata": {
  "accelerator": "GPU",
  "colab": {
   "collapsed_sections": [],
   "name": "Lesson5.ipynb",
   "provenance": [],
   "toc_visible": true
  },
  "kernelspec": {
   "display_name": "Python 3",
   "language": "python",
   "name": "python3"
  },
  "language_info": {
   "codemirror_mode": {
    "name": "ipython",
    "version": 3
   },
   "file_extension": ".py",
   "mimetype": "text/x-python",
   "name": "python",
   "nbconvert_exporter": "python",
   "pygments_lexer": "ipython3",
   "version": "3.7.10"
  }
 },
 "nbformat": 4,
 "nbformat_minor": 1
}
